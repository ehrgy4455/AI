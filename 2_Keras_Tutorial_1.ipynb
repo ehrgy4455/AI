{
  "nbformat": 4,
  "nbformat_minor": 0,
  "metadata": {
    "colab": {
      "name": "2.Keras_Tutorial_1.ipynb",
      "provenance": []
    },
    "kernelspec": {
      "name": "python3",
      "display_name": "Python 3"
    }
  },
  "cells": [
    {
      "cell_type": "code",
      "metadata": {
        "id": "ubKtxv9GhBxf",
        "colab_type": "code",
        "colab": {
          "base_uri": "https://localhost:8080/",
          "height": 493
        },
        "outputId": "0c1fd05f-09a1-4c1a-bfd7-ec6cc3abeb1a"
      },
      "source": [
        "import keras\n",
        "from keras.models import Sequential\n",
        "from keras.layers import Dense\n",
        "\n",
        "import numpy as np\n",
        "data = np.random.random((1000, 10)) #隨機產生1000筆資料，每筆資料1包含十個float數字\n",
        "labels = np.random.randint(2, size=(1000, 1)) #隨機產生1000筆資料，每筆資料上限為2(意思就是0 或 1)\n",
        "print(np.shape(data))\n",
        "print(data[0])\n",
        "print(np.shape(labels))\n",
        "print(labels[0])\n",
        "\n",
        "model = Sequential()\n",
        "model.add(Dense(32, activation='relu', input_dim=10))\n",
        "model.add(Dense(1, activation='sigmoid'))\n",
        "model.compile(optimizer='rmsprop', loss='binary_crossentropy', metrics=['accuracy'])\n",
        "\n",
        "model.fit(data, labels, epochs=10, batch_size=32)\n",
        "\n",
        "score=model.evaluate(data, labels)\n",
        "print(score[1])"
      ],
      "execution_count": 2,
      "outputs": [
        {
          "output_type": "stream",
          "text": [
            "Using TensorFlow backend.\n"
          ],
          "name": "stderr"
        },
        {
          "output_type": "stream",
          "text": [
            "(1000, 10)\n",
            "[0.44086945 0.55280249 0.96056242 0.43257646 0.44124058 0.40268853\n",
            " 0.07671855 0.14168126 0.67950663 0.33695644]\n",
            "(1000, 1)\n",
            "[1]\n",
            "Epoch 1/10\n",
            "1000/1000 [==============================] - 0s 286us/step - loss: 0.7125 - accuracy: 0.5080\n",
            "Epoch 2/10\n",
            "1000/1000 [==============================] - 0s 33us/step - loss: 0.6984 - accuracy: 0.5120\n",
            "Epoch 3/10\n",
            "1000/1000 [==============================] - 0s 32us/step - loss: 0.6962 - accuracy: 0.5010\n",
            "Epoch 4/10\n",
            "1000/1000 [==============================] - 0s 33us/step - loss: 0.6953 - accuracy: 0.5070\n",
            "Epoch 5/10\n",
            "1000/1000 [==============================] - 0s 35us/step - loss: 0.6943 - accuracy: 0.4970\n",
            "Epoch 6/10\n",
            "1000/1000 [==============================] - 0s 33us/step - loss: 0.6936 - accuracy: 0.5140\n",
            "Epoch 7/10\n",
            "1000/1000 [==============================] - 0s 35us/step - loss: 0.6927 - accuracy: 0.5060\n",
            "Epoch 8/10\n",
            "1000/1000 [==============================] - 0s 34us/step - loss: 0.6919 - accuracy: 0.5200\n",
            "Epoch 9/10\n",
            "1000/1000 [==============================] - 0s 35us/step - loss: 0.6912 - accuracy: 0.5140\n",
            "Epoch 10/10\n",
            "1000/1000 [==============================] - 0s 35us/step - loss: 0.6905 - accuracy: 0.5410\n",
            "1000/1000 [==============================] - 0s 39us/step\n",
            "0.5270000100135803\n"
          ],
          "name": "stdout"
        }
      ]
    }
  ]
}